{
 "cells": [
  {
   "cell_type": "code",
   "execution_count": 155,
   "metadata": {},
   "outputs": [],
   "source": [
    "import nltk\n",
    "import os\n",
    "import numpy as np\n",
    "import pandas as pd\n",
    "from multiprocessing.pool import ThreadPool\n",
    "import time\n",
    "\n"
   ]
  },
  {
   "cell_type": "code",
   "execution_count": 108,
   "metadata": {},
   "outputs": [],
   "source": [
    "from nltk.stem import WordNetLemmatizer \n",
    "  \n",
    "lemmatizer = WordNetLemmatizer() "
   ]
  },
  {
   "cell_type": "code",
   "execution_count": 109,
   "metadata": {},
   "outputs": [],
   "source": [
    "userhome = os.path.expanduser('~')\n",
    "csvfile= userhome + r'/Desktop/cd_mumbai_complaints.csv'\n",
    "df = pd.read_csv(csvfile)\n",
    "\n",
    "\n"
   ]
  },
  {
   "cell_type": "code",
   "execution_count": 110,
   "metadata": {
    "scrolled": true
   },
   "outputs": [
    {
     "data": {
      "text/html": [
       "<div>\n",
       "<style scoped>\n",
       "    .dataframe tbody tr th:only-of-type {\n",
       "        vertical-align: middle;\n",
       "    }\n",
       "\n",
       "    .dataframe tbody tr th {\n",
       "        vertical-align: top;\n",
       "    }\n",
       "\n",
       "    .dataframe thead th {\n",
       "        text-align: right;\n",
       "    }\n",
       "</style>\n",
       "<table border=\"1\" class=\"dataframe\">\n",
       "  <thead>\n",
       "    <tr style=\"text-align: right;\">\n",
       "      <th></th>\n",
       "      <th>generic_id</th>\n",
       "      <th>created_at</th>\n",
       "      <th>complaint_status_id</th>\n",
       "      <th>voteup_count</th>\n",
       "      <th>city_id</th>\n",
       "      <th>ward_id</th>\n",
       "      <th>category_id</th>\n",
       "      <th>sub_category_id</th>\n",
       "      <th>civic_agency_id</th>\n",
       "      <th>title</th>\n",
       "      <th>description</th>\n",
       "      <th>location</th>\n",
       "    </tr>\n",
       "  </thead>\n",
       "  <tbody>\n",
       "    <tr>\n",
       "      <th>0</th>\n",
       "      <td>W01730C147452</td>\n",
       "      <td>We are facing multiple issues related to road ...</td>\n",
       "      <td>4</td>\n",
       "      <td>28</td>\n",
       "      <td>2</td>\n",
       "      <td>946</td>\n",
       "      <td>15.0</td>\n",
       "      <td>66</td>\n",
       "      <td>22.0</td>\n",
       "      <td>8/5/16 9:45</td>\n",
       "      <td>Potholes, Illegal Parking and Movement of Heav...</td>\n",
       "      <td>NSS Palkar Road, Asalfa Village, Ghatkopar Wes...</td>\n",
       "    </tr>\n",
       "    <tr>\n",
       "      <th>1</th>\n",
       "      <td>W0960C153580</td>\n",
       "      <td>This is a really bad road. we need it cleaned ...</td>\n",
       "      <td>4</td>\n",
       "      <td>2</td>\n",
       "      <td>2</td>\n",
       "      <td>943</td>\n",
       "      <td>6.0</td>\n",
       "      <td>155</td>\n",
       "      <td>22.0</td>\n",
       "      <td>5/6/16 17:11</td>\n",
       "      <td>Bad road now with garbage</td>\n",
       "      <td>21st Rd, MIDC Industrial Estate, Pandit Dinday...</td>\n",
       "    </tr>\n",
       "    <tr>\n",
       "      <th>2</th>\n",
       "      <td>W01760C153649</td>\n",
       "      <td>This needs to be fixed asap.</td>\n",
       "      <td>2</td>\n",
       "      <td>40</td>\n",
       "      <td>2</td>\n",
       "      <td>946</td>\n",
       "      <td>21.0</td>\n",
       "      <td>84</td>\n",
       "      <td>25.0</td>\n",
       "      <td>5/6/16 21:16</td>\n",
       "      <td>Traffic issue that needs immediate attention</td>\n",
       "      <td>5, JVLR, IIT Area, Powai, Mumbai, Maharashtra ...</td>\n",
       "    </tr>\n",
       "    <tr>\n",
       "      <th>3</th>\n",
       "      <td>W01590C157072</td>\n",
       "      <td>We observed frequently heavy traffic at dahisa...</td>\n",
       "      <td>2</td>\n",
       "      <td>7</td>\n",
       "      <td>2</td>\n",
       "      <td>933</td>\n",
       "      <td>21.0</td>\n",
       "      <td>84</td>\n",
       "      <td>25.0</td>\n",
       "      <td>16-06-2016 19:42</td>\n",
       "      <td>Traffic jam at Dahisar check naka</td>\n",
       "      <td>Western Express Hwy, Diamond Industrial Estate...</td>\n",
       "    </tr>\n",
       "    <tr>\n",
       "      <th>4</th>\n",
       "      <td>W02080C164464</td>\n",
       "      <td>A pothole in front of Chand Shahwli Baba Darga...</td>\n",
       "      <td>3</td>\n",
       "      <td>19079</td>\n",
       "      <td>2</td>\n",
       "      <td>945</td>\n",
       "      <td>15.0</td>\n",
       "      <td>66</td>\n",
       "      <td>22.0</td>\n",
       "      <td>13-07-2016 12:57</td>\n",
       "      <td>Pothole on Pipeline Road</td>\n",
       "      <td>Pipe Line Rd, Powai, IIT Area, Powai, Mumbai, ...</td>\n",
       "    </tr>\n",
       "    <tr>\n",
       "      <th>...</th>\n",
       "      <td>...</td>\n",
       "      <td>...</td>\n",
       "      <td>...</td>\n",
       "      <td>...</td>\n",
       "      <td>...</td>\n",
       "      <td>...</td>\n",
       "      <td>...</td>\n",
       "      <td>...</td>\n",
       "      <td>...</td>\n",
       "      <td>...</td>\n",
       "      <td>...</td>\n",
       "      <td>...</td>\n",
       "    </tr>\n",
       "    <tr>\n",
       "      <th>9293</th>\n",
       "      <td>W09460C398356</td>\n",
       "      <td>Garbage on foot path</td>\n",
       "      <td>1</td>\n",
       "      <td>0</td>\n",
       "      <td>2</td>\n",
       "      <td>946</td>\n",
       "      <td>6.0</td>\n",
       "      <td>155</td>\n",
       "      <td>22.0</td>\n",
       "      <td>8/9/18 11:11</td>\n",
       "      <td>Garbage on foot path</td>\n",
       "      <td>Wing-B, Chandivali Rd, Yadav Nagar, Chandivali...</td>\n",
       "    </tr>\n",
       "    <tr>\n",
       "      <th>9294</th>\n",
       "      <td>W09460C398357</td>\n",
       "      <td>Garbage near foot path</td>\n",
       "      <td>1</td>\n",
       "      <td>0</td>\n",
       "      <td>2</td>\n",
       "      <td>946</td>\n",
       "      <td>6.0</td>\n",
       "      <td>155</td>\n",
       "      <td>22.0</td>\n",
       "      <td>8/9/18 11:12</td>\n",
       "      <td>Garbage near foot path</td>\n",
       "      <td>Manubhai Seetal Chawl, Chandivali Rd, Yadav Na...</td>\n",
       "    </tr>\n",
       "    <tr>\n",
       "      <th>9295</th>\n",
       "      <td>W09550C398400</td>\n",
       "      <td>Please add sound barrier Along all the suburba...</td>\n",
       "      <td>1</td>\n",
       "      <td>0</td>\n",
       "      <td>2</td>\n",
       "      <td>955</td>\n",
       "      <td>313.0</td>\n",
       "      <td>314</td>\n",
       "      <td>28.0</td>\n",
       "      <td>8/9/18 12:37</td>\n",
       "      <td>Please add sound barrier Along all the suburba...</td>\n",
       "      <td>Planet Godrej, Jacob Circle, Mumbai, Maharasht...</td>\n",
       "    </tr>\n",
       "    <tr>\n",
       "      <th>9296</th>\n",
       "      <td>W09440C398666</td>\n",
       "      <td>Garbage on foot path</td>\n",
       "      <td>1</td>\n",
       "      <td>0</td>\n",
       "      <td>2</td>\n",
       "      <td>944</td>\n",
       "      <td>6.0</td>\n",
       "      <td>155</td>\n",
       "      <td>22.0</td>\n",
       "      <td>9/9/18 8:31</td>\n",
       "      <td>Garbage on foot path</td>\n",
       "      <td>D-2, Pandit Madan Mohan Malaviya Rd, Mtnl Colo...</td>\n",
       "    </tr>\n",
       "    <tr>\n",
       "      <th>9297</th>\n",
       "      <td>W09440C398674</td>\n",
       "      <td>Garbage on foot path</td>\n",
       "      <td>1</td>\n",
       "      <td>0</td>\n",
       "      <td>2</td>\n",
       "      <td>944</td>\n",
       "      <td>6.0</td>\n",
       "      <td>155</td>\n",
       "      <td>22.0</td>\n",
       "      <td>9/9/18 8:44</td>\n",
       "      <td>Garbage on foot path</td>\n",
       "      <td>3, Pandit Madan Mohan Malaviya Rd, Asha Nagar,...</td>\n",
       "    </tr>\n",
       "  </tbody>\n",
       "</table>\n",
       "<p>9298 rows × 12 columns</p>\n",
       "</div>"
      ],
      "text/plain": [
       "         generic_id                                         created_at  \\\n",
       "0     W01730C147452  We are facing multiple issues related to road ...   \n",
       "1      W0960C153580  This is a really bad road. we need it cleaned ...   \n",
       "2     W01760C153649                       This needs to be fixed asap.   \n",
       "3     W01590C157072  We observed frequently heavy traffic at dahisa...   \n",
       "4     W02080C164464  A pothole in front of Chand Shahwli Baba Darga...   \n",
       "...             ...                                                ...   \n",
       "9293  W09460C398356                               Garbage on foot path   \n",
       "9294  W09460C398357                             Garbage near foot path   \n",
       "9295  W09550C398400  Please add sound barrier Along all the suburba...   \n",
       "9296  W09440C398666                               Garbage on foot path   \n",
       "9297  W09440C398674                               Garbage on foot path   \n",
       "\n",
       "      complaint_status_id  voteup_count  city_id  ward_id  category_id  \\\n",
       "0                       4            28        2      946         15.0   \n",
       "1                       4             2        2      943          6.0   \n",
       "2                       2            40        2      946         21.0   \n",
       "3                       2             7        2      933         21.0   \n",
       "4                       3         19079        2      945         15.0   \n",
       "...                   ...           ...      ...      ...          ...   \n",
       "9293                    1             0        2      946          6.0   \n",
       "9294                    1             0        2      946          6.0   \n",
       "9295                    1             0        2      955        313.0   \n",
       "9296                    1             0        2      944          6.0   \n",
       "9297                    1             0        2      944          6.0   \n",
       "\n",
       "      sub_category_id  civic_agency_id             title  \\\n",
       "0                  66             22.0       8/5/16 9:45   \n",
       "1                 155             22.0      5/6/16 17:11   \n",
       "2                  84             25.0      5/6/16 21:16   \n",
       "3                  84             25.0  16-06-2016 19:42   \n",
       "4                  66             22.0  13-07-2016 12:57   \n",
       "...               ...              ...               ...   \n",
       "9293              155             22.0      8/9/18 11:11   \n",
       "9294              155             22.0      8/9/18 11:12   \n",
       "9295              314             28.0      8/9/18 12:37   \n",
       "9296              155             22.0       9/9/18 8:31   \n",
       "9297              155             22.0       9/9/18 8:44   \n",
       "\n",
       "                                            description  \\\n",
       "0     Potholes, Illegal Parking and Movement of Heav...   \n",
       "1                             Bad road now with garbage   \n",
       "2          Traffic issue that needs immediate attention   \n",
       "3                     Traffic jam at Dahisar check naka   \n",
       "4                              Pothole on Pipeline Road   \n",
       "...                                                 ...   \n",
       "9293                               Garbage on foot path   \n",
       "9294                             Garbage near foot path   \n",
       "9295  Please add sound barrier Along all the suburba...   \n",
       "9296                               Garbage on foot path   \n",
       "9297                               Garbage on foot path   \n",
       "\n",
       "                                               location  \n",
       "0     NSS Palkar Road, Asalfa Village, Ghatkopar Wes...  \n",
       "1     21st Rd, MIDC Industrial Estate, Pandit Dinday...  \n",
       "2     5, JVLR, IIT Area, Powai, Mumbai, Maharashtra ...  \n",
       "3     Western Express Hwy, Diamond Industrial Estate...  \n",
       "4     Pipe Line Rd, Powai, IIT Area, Powai, Mumbai, ...  \n",
       "...                                                 ...  \n",
       "9293  Wing-B, Chandivali Rd, Yadav Nagar, Chandivali...  \n",
       "9294  Manubhai Seetal Chawl, Chandivali Rd, Yadav Na...  \n",
       "9295  Planet Godrej, Jacob Circle, Mumbai, Maharasht...  \n",
       "9296  D-2, Pandit Madan Mohan Malaviya Rd, Mtnl Colo...  \n",
       "9297  3, Pandit Madan Mohan Malaviya Rd, Asha Nagar,...  \n",
       "\n",
       "[9298 rows x 12 columns]"
      ]
     },
     "execution_count": 110,
     "metadata": {},
     "output_type": "execute_result"
    }
   ],
   "source": [
    "df"
   ]
  },
  {
   "cell_type": "code",
   "execution_count": 111,
   "metadata": {},
   "outputs": [],
   "source": [
    "import nltk\n",
    "from nltk.tokenize import word_tokenize"
   ]
  },
  {
   "cell_type": "code",
   "execution_count": 112,
   "metadata": {
    "scrolled": true
   },
   "outputs": [
    {
     "name": "stderr",
     "output_type": "stream",
     "text": [
      "[nltk_data] Downloading package stopwords to\n",
      "[nltk_data]     /Users/jarvis/nltk_data...\n",
      "[nltk_data]   Package stopwords is already up-to-date!\n"
     ]
    },
    {
     "data": {
      "text/plain": [
       "True"
      ]
     },
     "execution_count": 112,
     "metadata": {},
     "output_type": "execute_result"
    }
   ],
   "source": [
    "nltk.download('stopwords')"
   ]
  },
  {
   "cell_type": "code",
   "execution_count": 113,
   "metadata": {},
   "outputs": [
    {
     "name": "stderr",
     "output_type": "stream",
     "text": [
      "/Users/jarvis/opt/anaconda3/lib/python3.7/site-packages/ipykernel_launcher.py:2: UserWarning: Boolean Series key will be reindexed to match DataFrame index.\n",
      "  \n",
      "/Users/jarvis/opt/anaconda3/lib/python3.7/site-packages/ipykernel_launcher.py:3: UserWarning: Boolean Series key will be reindexed to match DataFrame index.\n",
      "  This is separate from the ipykernel package so we can avoid doing imports until\n"
     ]
    }
   ],
   "source": [
    "df1 = df[pd.notnull(df['created_at'])]\n",
    "df1 = df1[pd.notnull(df['category_id'])]\n",
    "df1 = df1[pd.notnull(df['civic_agency_id'])]\n",
    "\n",
    "\n",
    "\n",
    "\n"
   ]
  },
  {
   "cell_type": "code",
   "execution_count": 114,
   "metadata": {},
   "outputs": [],
   "source": [
    "df1.reset_index(inplace=True)"
   ]
  },
  {
   "cell_type": "code",
   "execution_count": 115,
   "metadata": {},
   "outputs": [],
   "source": [
    "import nltk\n",
    "from nltk.corpus import stopwords"
   ]
  },
  {
   "cell_type": "code",
   "execution_count": 116,
   "metadata": {},
   "outputs": [
    {
     "name": "stderr",
     "output_type": "stream",
     "text": [
      "/Users/jarvis/opt/anaconda3/lib/python3.7/site-packages/ipykernel_launcher.py:3: SettingWithCopyWarning: \n",
      "A value is trying to be set on a copy of a slice from a DataFrame\n",
      "\n",
      "See the caveats in the documentation: https://pandas.pydata.org/pandas-docs/stable/user_guide/indexing.html#returning-a-view-versus-a-copy\n",
      "  This is separate from the ipykernel package so we can avoid doing imports until\n"
     ]
    }
   ],
   "source": [
    "for i in range(len(df1)):\n",
    "    text = df1[\"created_at\"][i] \n",
    "    df1[\"created_at\"][i] = ' '.join([word for word in text.split() if word not in stopwords.words(\"english\")])"
   ]
  },
  {
   "cell_type": "code",
   "execution_count": 117,
   "metadata": {},
   "outputs": [],
   "source": [
    "from sklearn.feature_extraction.text import TfidfTransformer\n",
    "from sklearn.feature_extraction.text import TfidfVectorizer\n",
    "vectorizer = TfidfVectorizer()\n",
    "from sklearn.feature_extraction.text import CountVectorizer\n",
    "cvectorizer = CountVectorizer()\n",
    "vectorizer = TfidfVectorizer()\n",
    "\n"
   ]
  },
  {
   "cell_type": "code",
   "execution_count": 134,
   "metadata": {},
   "outputs": [],
   "source": [
    "xt = vectorizer.fit_transform(df1[\"created_at\"])\n",
    "xc = cvectorizer.fit_transform(df1[\"created_at\"])"
   ]
  },
  {
   "cell_type": "code",
   "execution_count": 135,
   "metadata": {},
   "outputs": [
    {
     "data": {
      "text/plain": [
       "6964"
      ]
     },
     "execution_count": 135,
     "metadata": {},
     "output_type": "execute_result"
    }
   ],
   "source": [
    "len(vectorizer.vocabulary_) "
   ]
  },
  {
   "cell_type": "code",
   "execution_count": 139,
   "metadata": {},
   "outputs": [
    {
     "data": {
      "text/plain": [
       "6964"
      ]
     },
     "execution_count": 139,
     "metadata": {},
     "output_type": "execute_result"
    }
   ],
   "source": [
    "len(cvectorizer.vocabulary_) "
   ]
  },
  {
   "cell_type": "code",
   "execution_count": 140,
   "metadata": {},
   "outputs": [],
   "source": [
    "from xgboost import XGBClassifier\n",
    "from sklearn.model_selection import train_test_split\n",
    "from sklearn.metrics import accuracy_score"
   ]
  },
  {
   "cell_type": "code",
   "execution_count": 158,
   "metadata": {},
   "outputs": [],
   "source": [
    "from sklearn.model_selection import train_test_split"
   ]
  },
  {
   "cell_type": "code",
   "execution_count": 159,
   "metadata": {},
   "outputs": [],
   "source": [
    "train_vectors, test_vectors, y_train, y_test = train_test_split( xt, df1[\"sub_category_id\"] , test_size=0.2, random_state=42)"
   ]
  },
  {
   "cell_type": "code",
   "execution_count": 160,
   "metadata": {},
   "outputs": [
    {
     "name": "stdout",
     "output_type": "stream",
     "text": [
      "XGBClassifier(base_score=0.5, booster='gbtree', colsample_bylevel=1,\n",
      "              colsample_bytree=1, gamma=0, learning_rate=0.1, max_delta_step=0,\n",
      "              max_depth=3, min_child_weight=1, missing=None, n_estimators=100,\n",
      "              n_jobs=1, nthread=None, objective='multi:softprob',\n",
      "              random_state=0, reg_alpha=0, reg_lambda=1, scale_pos_weight=1,\n",
      "              seed=None, silent=True, subsample=1)\n",
      "Accuracy: 90.83%\n",
      "Runtime of the program is 133.03442287445068\n"
     ]
    }
   ],
   "source": [
    "start = time.time()\n",
    "model1 = XGBClassifier()\n",
    "model1.fit(train_vectors, y_train)\n",
    "print(model1)\n",
    "y_pred = model1.predict(test_vectors)\n",
    "predictions = [round(value) for value in y_pred]\n",
    "accuracy = accuracy_score(y_test, predictions)\n",
    "print(\"Accuracy: %.2f%%\" % (accuracy * 100.0))\n",
    "end = time.time()\n",
    "\n",
    "print(f\"Runtime of the program is {end - start}\")\n"
   ]
  },
  {
   "cell_type": "code",
   "execution_count": 161,
   "metadata": {},
   "outputs": [],
   "source": [
    "train_vectors, test_vectors, y_train, y_test = train_test_split( xc, df1[\"sub_category_id\"] , test_size=0.2, random_state=42)"
   ]
  },
  {
   "cell_type": "code",
   "execution_count": 162,
   "metadata": {},
   "outputs": [
    {
     "name": "stdout",
     "output_type": "stream",
     "text": [
      "XGBClassifier(base_score=0.5, booster='gbtree', colsample_bylevel=1,\n",
      "              colsample_bytree=1, gamma=0, learning_rate=0.1, max_delta_step=0,\n",
      "              max_depth=3, min_child_weight=1, missing=None, n_estimators=100,\n",
      "              n_jobs=1, nthread=None, objective='multi:softprob',\n",
      "              random_state=0, reg_alpha=0, reg_lambda=1, scale_pos_weight=1,\n",
      "              seed=None, silent=True, subsample=1)\n",
      "Accuracy: 90.95%\n",
      "Runtime of the program is 128.7261188030243\n"
     ]
    }
   ],
   "source": [
    "start = time.time()\n",
    "model1a = XGBClassifier()\n",
    "model1a.fit(train_vectors, y_train)\n",
    "print(model1a)\n",
    "y_pred = model1a.predict(test_vectors)\n",
    "predictions = [round(value) for value in y_pred]\n",
    "accuracy = accuracy_score(y_test, predictions)\n",
    "print(\"Accuracy: %.2f%%\" % (accuracy * 100.0))\n",
    "end = time.time()\n",
    "\n",
    "print(f\"Runtime of the program is {end - start}\")"
   ]
  },
  {
   "cell_type": "code",
   "execution_count": 163,
   "metadata": {},
   "outputs": [],
   "source": [
    "train_vectors , test_vectors, y_train, y_test = train_test_split( xt , df1[\"category_id\"] , test_size=0.2, random_state=42)"
   ]
  },
  {
   "cell_type": "code",
   "execution_count": 164,
   "metadata": {
    "scrolled": true
   },
   "outputs": [
    {
     "name": "stdout",
     "output_type": "stream",
     "text": [
      "XGBClassifier(base_score=0.5, booster='gbtree', colsample_bylevel=1,\n",
      "              colsample_bytree=1, gamma=0, learning_rate=0.1, max_delta_step=0,\n",
      "              max_depth=3, min_child_weight=1, missing=None, n_estimators=100,\n",
      "              n_jobs=1, nthread=None, objective='multi:softprob',\n",
      "              random_state=0, reg_alpha=0, reg_lambda=1, scale_pos_weight=1,\n",
      "              seed=None, silent=True, subsample=1)\n",
      "Accuracy: 93.23%\n",
      "Runtime of the program is 27.6805100440979\n"
     ]
    }
   ],
   "source": [
    "start = time.time()\n",
    "model2 = XGBClassifier()\n",
    "model2.fit(train_vectors, y_train)\n",
    "print(model2)\n",
    "y_pred = model2.predict(test_vectors)\n",
    "predictions = [round(value) for value in y_pred]\n",
    "accuracy = accuracy_score(y_test, predictions)\n",
    "print(\"Accuracy: %.2f%%\" % (accuracy * 100.0))\n",
    "end = time.time()\n",
    "\n",
    "print(f\"Runtime of the program is {end - start}\")"
   ]
  },
  {
   "cell_type": "code",
   "execution_count": 165,
   "metadata": {},
   "outputs": [],
   "source": [
    "train_vectors , test_vectors, y_train, y_test = train_test_split( xc , df1[\"category_id\"] , test_size=0.2, random_state=42)"
   ]
  },
  {
   "cell_type": "code",
   "execution_count": 166,
   "metadata": {},
   "outputs": [
    {
     "name": "stdout",
     "output_type": "stream",
     "text": [
      "XGBClassifier(base_score=0.5, booster='gbtree', colsample_bylevel=1,\n",
      "              colsample_bytree=1, gamma=0, learning_rate=0.1, max_delta_step=0,\n",
      "              max_depth=3, min_child_weight=1, missing=None, n_estimators=100,\n",
      "              n_jobs=1, nthread=None, objective='multi:softprob',\n",
      "              random_state=0, reg_alpha=0, reg_lambda=1, scale_pos_weight=1,\n",
      "              seed=None, silent=True, subsample=1)\n",
      "Accuracy: 93.65%\n",
      "Runtime of the program is 24.47632908821106\n"
     ]
    }
   ],
   "source": [
    "start = time.time()\n",
    "model2a = XGBClassifier()\n",
    "model2a.fit(train_vectors, y_train)\n",
    "print(model2a)\n",
    "y_pred = model2a.predict(test_vectors)\n",
    "predictions = [round(value) for value in y_pred]\n",
    "accuracy = accuracy_score(y_test, predictions)\n",
    "print(\"Accuracy: %.2f%%\" % (accuracy * 100.0))\n",
    "end = time.time()\n",
    "\n",
    "print(f\"Runtime of the program is {end - start}\")"
   ]
  },
  {
   "cell_type": "code",
   "execution_count": 167,
   "metadata": {},
   "outputs": [],
   "source": [
    "train_vectors , test_vectors, y_train, y_test = train_test_split( xt , df1[\"civic_agency_id\"] , test_size=0.2, random_state=42)"
   ]
  },
  {
   "cell_type": "code",
   "execution_count": 168,
   "metadata": {
    "scrolled": true
   },
   "outputs": [
    {
     "name": "stdout",
     "output_type": "stream",
     "text": [
      "XGBClassifier(base_score=0.5, booster='gbtree', colsample_bylevel=1,\n",
      "              colsample_bytree=1, gamma=0, learning_rate=0.1, max_delta_step=0,\n",
      "              max_depth=3, min_child_weight=1, missing=None, n_estimators=100,\n",
      "              n_jobs=1, nthread=None, objective='multi:softprob',\n",
      "              random_state=0, reg_alpha=0, reg_lambda=1, scale_pos_weight=1,\n",
      "              seed=None, silent=True, subsample=1)\n",
      "Accuracy: 96.28%\n",
      "Runtime of the program is 11.171482801437378\n"
     ]
    }
   ],
   "source": [
    "start = time.time()\n",
    "model3 = XGBClassifier()\n",
    "model3.fit(train_vectors, y_train)\n",
    "print(model3)\n",
    "y_pred = model3.predict(test_vectors)\n",
    "predictions = [round(value) for value in y_pred]\n",
    "accuracy = accuracy_score(y_test, predictions)\n",
    "print(\"Accuracy: %.2f%%\" % (accuracy * 100.0))\n",
    "end = time.time()\n",
    "\n",
    "print(f\"Runtime of the program is {end - start}\")"
   ]
  },
  {
   "cell_type": "code",
   "execution_count": 169,
   "metadata": {},
   "outputs": [],
   "source": [
    "train_vectors , test_vectors, y_train, y_test = train_test_split( xc , df1[\"civic_agency_id\"] , test_size=0.2, random_state=42)"
   ]
  },
  {
   "cell_type": "code",
   "execution_count": 170,
   "metadata": {},
   "outputs": [
    {
     "name": "stdout",
     "output_type": "stream",
     "text": [
      "XGBClassifier(base_score=0.5, booster='gbtree', colsample_bylevel=1,\n",
      "              colsample_bytree=1, gamma=0, learning_rate=0.1, max_delta_step=0,\n",
      "              max_depth=3, min_child_weight=1, missing=None, n_estimators=100,\n",
      "              n_jobs=1, nthread=None, objective='multi:softprob',\n",
      "              random_state=0, reg_alpha=0, reg_lambda=1, scale_pos_weight=1,\n",
      "              seed=None, silent=True, subsample=1)\n",
      "Accuracy: 96.28%\n",
      "Runtime of the program is 8.206562042236328\n"
     ]
    }
   ],
   "source": [
    "start = time.time()\n",
    "model3a = XGBClassifier()\n",
    "model3a.fit(train_vectors, y_train)\n",
    "print(model3a)\n",
    "y_pred = model3a.predict(test_vectors)\n",
    "predictions = [round(value) for value in y_pred]\n",
    "accuracy = accuracy_score(y_test, predictions)\n",
    "print(\"Accuracy: %.2f%%\" % (accuracy * 100.0))\n",
    "end = time.time()\n",
    "\n",
    "print(f\"Runtime of the program is {end - start}\")"
   ]
  },
  {
   "cell_type": "code",
   "execution_count": null,
   "metadata": {},
   "outputs": [],
   "source": []
  },
  {
   "cell_type": "code",
   "execution_count": null,
   "metadata": {},
   "outputs": [],
   "source": []
  },
  {
   "cell_type": "code",
   "execution_count": null,
   "metadata": {},
   "outputs": [],
   "source": []
  },
  {
   "cell_type": "code",
   "execution_count": null,
   "metadata": {},
   "outputs": [],
   "source": []
  },
  {
   "cell_type": "code",
   "execution_count": null,
   "metadata": {},
   "outputs": [],
   "source": []
  }
 ],
 "metadata": {
  "kernelspec": {
   "display_name": "Python 3",
   "language": "python",
   "name": "python3"
  },
  "language_info": {
   "codemirror_mode": {
    "name": "ipython",
    "version": 3
   },
   "file_extension": ".py",
   "mimetype": "text/x-python",
   "name": "python",
   "nbconvert_exporter": "python",
   "pygments_lexer": "ipython3",
   "version": "3.7.6"
  }
 },
 "nbformat": 4,
 "nbformat_minor": 4
}
